{
 "cells": [
  {
   "cell_type": "markdown",
   "metadata": {},
   "source": [
    "<font size=\"5\">311 DATA EXERCISE</font>\n",
    "<br />\n",
    "Goal: Explore the 311 dataset using basic R commands."
   ]
  },
  {
   "cell_type": "markdown",
   "metadata": {},
   "source": [
    "<font size=\"5\">LOAD DATASET</font>\n",
    "\n",
    "We use <- notation to assign values to variables\n",
    "\n",
    "The read function takes input data and converts it into a dataframe object"
   ]
  },
  {
   "cell_type": "code",
   "execution_count": null,
   "metadata": {},
   "outputs": [],
   "source": [
    "mydata <- read.csv(\"https://s3.amazonaws.com/datapolitan-training-files/311_Requests_Oct15_Nov20.csv\", header=TRUE, sep=\",\")"
   ]
  },
  {
   "cell_type": "markdown",
   "metadata": {},
   "source": [
    "<font size=\"5\">Exploring the data</font>\n",
    "<ul>\n",
    "    <li>\n",
    "        dim\n",
    "    </li>\n",
    "    <li>\n",
    "        colnames\n",
    "    </li>\n",
    "    <li>\n",
    "        head\n",
    "    </li>\n",
    "    <li>\n",
    "        subsets\n",
    "    </li>\n",
    "    <li>\n",
    "        summary\n",
    "    </li>\n",
    "</ul>\n",
    "        "
   ]
  },
  {
   "cell_type": "markdown",
   "metadata": {},
   "source": [
    "<font size=\"5\">DIM</font>\n",
    "\n",
    "dim function returns the dimensions of an object (i.e. number of rows and number of columns)"
   ]
  },
  {
   "cell_type": "code",
   "execution_count": null,
   "metadata": {},
   "outputs": [],
   "source": [
    "dim(mydata)"
   ]
  },
  {
   "cell_type": "markdown",
   "metadata": {},
   "source": [
    "<font size=\"5\">COLNAMES</font>\n",
    "\n",
    "colnames function returns the object's column names"
   ]
  },
  {
   "cell_type": "code",
   "execution_count": null,
   "metadata": {},
   "outputs": [],
   "source": [
    "colnames(mydata)"
   ]
  },
  {
   "cell_type": "markdown",
   "metadata": {},
   "source": [
    "<font size=\"5\">HEAD</font>\n",
    "\n",
    "head function displays the first 6 records associated with a dataset"
   ]
  },
  {
   "cell_type": "code",
   "execution_count": null,
   "metadata": {},
   "outputs": [],
   "source": [
    "head(mydata)"
   ]
  },
  {
   "cell_type": "markdown",
   "metadata": {},
   "source": [
    "<font size=\"5\">SUBSETTING</font>\n",
    "\n",
    "Subsets of the dataset can be created and passed to various functions"
   ]
  },
  {
   "cell_type": "code",
   "execution_count": null,
   "metadata": {},
   "outputs": [],
   "source": [
    "# Subsetting mydata for only columns 2, 6, 7, 8, 9, 24, and 25. Note: c standard for concatenate not columns\n",
    "mydata[,c(2,6,7,8,9,24,25)]\n",
    "\n",
    "# We can also subset mydata for only the first 3 records.\n",
    "mydata[c(1,2,3), c(2,6,7,8,9,24,25)]"
   ]
  },
  {
   "cell_type": "markdown",
   "metadata": {},
   "source": [
    "<font size=\"5\">SUMMARY</font>\n",
    "\n",
    "Summary statistics can be generated for each column in the dataset"
   ]
  },
  {
   "cell_type": "code",
   "execution_count": null,
   "metadata": {},
   "outputs": [],
   "source": [
    "summary(mydata)"
   ]
  },
  {
   "cell_type": "markdown",
   "metadata": {},
   "source": [
    "Summary statistics on a subset of the columns in the dataset"
   ]
  },
  {
   "cell_type": "code",
   "execution_count": null,
   "metadata": {},
   "outputs": [],
   "source": [
    "summary(mydata[,c(2,3)])"
   ]
  },
  {
   "cell_type": "markdown",
   "metadata": {},
   "source": [
    "<font size=\"5\">Understanding Data Structure</font>\n",
    "\n",
    "<ul>\n",
    "    <li>\n",
    "        str (structure)\n",
    "    </li>\n",
    "    <li>\n",
    "        class\n",
    "    </li>\n",
    "    <li>\n",
    "        sapply\n",
    "    </li>\n",
    "    <li>\n",
    "        converting data\n",
    "        <ul>\n",
    "            <li>\n",
    "                as.numeric\n",
    "            </li>\n",
    "            <li>\n",
    "                as.character\n",
    "            </li>\n",
    "        </ul>\n",
    "    </li>\n",
    "    <li>\n",
    "        max, min, mean, median\n",
    "    </li>        \n",
    "    <li>\n",
    "        dealing with NULLS\n",
    "        <ul>\n",
    "            <li>\n",
    "                na.rm\n",
    "            </li>\n",
    "        </ul>\n",
    "    </li>\n",
    "    <li>\n",
    "        table\n",
    "    </li>\n",
    "</ul>    "
   ]
  },
  {
   "cell_type": "markdown",
   "metadata": {},
   "source": [
    "<font size=\"5\">STR</font>\n",
    "\n",
    "Structure of columns in a dataset. Alternative to summary"
   ]
  },
  {
   "cell_type": "code",
   "execution_count": null,
   "metadata": {},
   "outputs": [],
   "source": [
    "str(mydata[,c(2,6,7,8,9,24,25)])"
   ]
  },
  {
   "cell_type": "markdown",
   "metadata": {},
   "source": [
    "<font size=\"5\">CLASS</font>\n",
    "\n",
    "Identify the data type of a particular dataset column"
   ]
  },
  {
   "cell_type": "code",
   "execution_count": null,
   "metadata": {},
   "outputs": [],
   "source": [
    "class(mydata$Borough)\n",
    "class(mydata$Latitude)\n",
    "class(mydata$School.or.Citywide.Complaint)"
   ]
  },
  {
   "cell_type": "markdown",
   "metadata": {},
   "source": [
    "<font size=\"5\">SAPPLY</font>\n",
    "\n",
    "Identify the datatypes of all dataset columns. Can be used with other functions"
   ]
  },
  {
   "cell_type": "code",
   "execution_count": null,
   "metadata": {},
   "outputs": [],
   "source": [
    "sapply(mydata, class)"
   ]
  },
  {
   "cell_type": "markdown",
   "metadata": {},
   "source": [
    "<font size=\"5\">AS.NUMERIC</font>\n",
    "\n",
    "Convert the data type of a dataframe's column to numeric"
   ]
  },
  {
   "cell_type": "code",
   "execution_count": null,
   "metadata": {},
   "outputs": [],
   "source": [
    "mydata[, 9] <- as.numeric(levels(mydata[, 9])[mydata[, 9]])"
   ]
  },
  {
   "cell_type": "markdown",
   "metadata": {},
   "source": [
    "<font size=\"5\">AS.CHARACTER</font>\n",
    "\n",
    "Convert the data type of a dataframe's column to string"
   ]
  },
  {
   "cell_type": "code",
   "execution_count": null,
   "metadata": {},
   "outputs": [],
   "source": [
    "mydata[, 5] <- as.character(mydata[, 5])"
   ]
  },
  {
   "cell_type": "markdown",
   "metadata": {},
   "source": [
    "List the new data types of the altered columns"
   ]
  },
  {
   "cell_type": "code",
   "execution_count": null,
   "metadata": {},
   "outputs": [],
   "source": [
    "sapply(mydata[, c(9,5)], class)"
   ]
  },
  {
   "cell_type": "markdown",
   "metadata": {},
   "source": [
    "<font size=\"5\">MAX, MIN, MEAN, MEDIAN and NA.RM</font>\n",
    "\n",
    "Calculate minimum, maximum, mean, and median values for a specific column. Note: The field must be a numeric type and contain no NULL values"
   ]
  },
  {
   "cell_type": "markdown",
   "metadata": {},
   "source": [
    "Calculating descriptive statistics on column with NULLS"
   ]
  },
  {
   "cell_type": "code",
   "execution_count": null,
   "metadata": {},
   "outputs": [],
   "source": [
    "# Will return <NA> because NULLS exist in column\n",
    "max(mydata$Incident.Zip)\n",
    "min(mydata$Incident.Zip)\n",
    "mean(mydata$Incident.Zip)\n",
    "median(mydata$Incident.Zip)"
   ]
  },
  {
   "cell_type": "markdown",
   "metadata": {},
   "source": [
    "Calculating descriptive statistics on column after removing NULL values"
   ]
  },
  {
   "cell_type": "code",
   "execution_count": null,
   "metadata": {},
   "outputs": [],
   "source": [
    "# If NULLS exist within your column, use na.rm=TRUE\n",
    "max(mydata$Incident.Zip,  na.rm=TRUE)\n",
    "min(mydata$Incident.Zip,  na.rm=TRUE)\n",
    "mean(mydata$Incident.Zip,  na.rm=TRUE)\n",
    "median(mydata$Incident.Zip,  na.rm=TRUE)"
   ]
  },
  {
   "cell_type": "markdown",
   "metadata": {},
   "source": [
    "<font size=\"5\">TABLE</font>\n",
    "\n",
    "Create a cross-tabulation / pivot table for specific dataset columns"
   ]
  },
  {
   "cell_type": "markdown",
   "metadata": {},
   "source": [
    "Number of 311 complaints by Borough"
   ]
  },
  {
   "cell_type": "code",
   "execution_count": null,
   "metadata": {},
   "outputs": [],
   "source": [
    "table(mydata$Borough)"
   ]
  },
  {
   "cell_type": "markdown",
   "metadata": {},
   "source": [
    "Number of 311 complaints by Agency"
   ]
  },
  {
   "cell_type": "code",
   "execution_count": null,
   "metadata": {},
   "outputs": [],
   "source": [
    "table(mydata$Agency)"
   ]
  },
  {
   "cell_type": "markdown",
   "metadata": {},
   "source": [
    "<font size=\"5\">Visualizing Data</font>"
   ]
  },
  {
   "cell_type": "markdown",
   "metadata": {},
   "source": [
    "<font size=\"5\">Bar Plot</font>\n",
    "\n",
    "Create bar plot showing 311 complaints broken down by frequency across Boroughs"
   ]
  },
  {
   "cell_type": "code",
   "execution_count": null,
   "metadata": {},
   "outputs": [],
   "source": [
    "# Understand data structure\n",
    "\n",
    "# Store new pivot table as a new dataframe object\n",
    "\n",
    "boroughTable <- table(mydata$Borough)\n",
    "\n",
    "#Visualize data with a bar plot\n",
    "\n",
    "barplot(table(mydata$Borough), main='# of 311 Complaints by Borough', xlab='Boroughs', ylab='# of 311 Complaints', cex.names=.5, col='orange', ylim=c(0,70000))\n",
    "# plot.window(ylim=100000)"
   ]
  },
  {
   "cell_type": "markdown",
   "metadata": {},
   "source": [
    "<font size=\"5\">Exporting Data</font>"
   ]
  },
  {
   "cell_type": "markdown",
   "metadata": {},
   "source": [
    "Export data to csv file-format"
   ]
  },
  {
   "cell_type": "code",
   "execution_count": null,
   "metadata": {},
   "outputs": [],
   "source": [
    "write.csv(mydata, '311_Data_Original.csv')"
   ]
  },
  {
   "cell_type": "markdown",
   "metadata": {},
   "source": [
    "Export subset (first four columns) of data to csv file-format"
   ]
  },
  {
   "cell_type": "code",
   "execution_count": null,
   "metadata": {},
   "outputs": [],
   "source": [
    "write.csv(mydata[,c(1,2,3,4)], '311_Data_Column_Subset.csv')"
   ]
  }
 ],
 "metadata": {
  "kernelspec": {
   "display_name": "R",
   "language": "R",
   "name": "ir"
  },
  "language_info": {
   "codemirror_mode": "r",
   "file_extension": ".r",
   "mimetype": "text/x-r-source",
   "name": "R",
   "pygments_lexer": "r",
   "version": "3.5.1"
  }
 },
 "nbformat": 4,
 "nbformat_minor": 4
}
